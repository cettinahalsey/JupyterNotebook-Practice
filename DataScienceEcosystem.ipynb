{
 "cells": [
  {
   "cell_type": "markdown",
   "id": "c629f934-a30f-4105-961c-d66e28a199a7",
   "metadata": {},
   "source": [
    "#  Data Science Tools and Ecosystem"
   ]
  },
  {
   "cell_type": "markdown",
   "id": "f71d230e-19a8-421f-892e-f9b0c26e0c4a",
   "metadata": {},
   "source": [
    "###  In this notebook, Data Science Tools and Ecosystem are summarized."
   ]
  },
  {
   "cell_type": "markdown",
   "id": "f2b0f248-b6d3-4828-b989-00cbc0e54029",
   "metadata": {},
   "source": [
    "**Objectives**\n",
    "   \n",
    "+ Popular languages in Data Science\n",
    "+ Commonly used libraries in Data Science\n",
    "+ Table with Data Science Tools\n",
    "+ Examples of arithmetic operations\n"
   ]
  },
  {
   "cell_type": "markdown",
   "id": "0c696a4f-cb99-4fdc-b627-d06deaf2b7ec",
   "metadata": {},
   "source": [
    "*Some of the popular languages that Data Scientists use are:*\n",
    "  \n",
    "1. Python\n",
    "2. R\n",
    "3. SQL\n",
    "4. Scala\n",
    "5. Java\n",
    "6. C++\n",
    "7. Julia\n",
    "8. JavaScript"
   ]
  },
  {
   "cell_type": "markdown",
   "id": "5757d987-c969-421d-9397-74e573e27a95",
   "metadata": {},
   "source": [
    " *Some of the commonly used libraries used by Data Scientists include:*\n",
    "1. Pandas\n",
    "2. NumPy\n",
    "3. SciPy\n",
    "4. Matplotlib,\n",
    "5. Natural Language Toolkit "
   ]
  },
  {
   "cell_type": "markdown",
   "id": "58861954-b882-444f-97c7-d64fe4670b84",
   "metadata": {},
   "source": [
    "|Data Science Tools   |\n",
    "|----------------------|\n",
    "|Weka|\n",
    "|Java-ML|\n",
    "|Apache MLlib|\n",
    "|Deeplearning|\n",
    "|Apache Spark |\n",
    "|JuliaDB|"
   ]
  },
  {
   "cell_type": "markdown",
   "id": "1c4917f7-1805-4b3b-b280-80869a3c70a9",
   "metadata": {},
   "source": [
    "\n",
    "### Below are a few examples of evaluating arithmetic expressions in Python.\n"
   ]
  },
  {
   "cell_type": "code",
   "execution_count": 2,
   "id": "bc3af810-190d-4bec-b7e5-8220c3953b33",
   "metadata": {},
   "outputs": [
    {
     "data": {
      "text/plain": [
       "17"
      ]
     },
     "execution_count": 2,
     "metadata": {},
     "output_type": "execute_result"
    }
   ],
   "source": [
    "# This a simple arithmetic expression to multiply then add integers\n",
    "(3*4)+5"
   ]
  },
  {
   "cell_type": "code",
   "execution_count": 4,
   "id": "292d6642-675f-4487-b28d-f1c7a97c5965",
   "metadata": {},
   "outputs": [
    {
     "name": "stdout",
     "output_type": "stream",
     "text": [
      "200  minutes are equivalent to 3.3333333333333335  hours\n"
     ]
    }
   ],
   "source": [
    "#  This will convert 200 minutes to hours by diving by 60.\n",
    "minutes = 200\n",
    "hours = minutes/60\n",
    "print(minutes,\" minutes are equivalent to\",hours,\" hours\")"
   ]
  },
  {
   "cell_type": "markdown",
   "id": "5a117407-0a3a-4dc8-869d-2e2e688cffd2",
   "metadata": {},
   "source": [
    "\n"
   ]
  },
  {
   "cell_type": "markdown",
   "id": "916fc2a5-3c86-4525-bd50-961f05128dc3",
   "metadata": {},
   "source": [
    "\n",
    "\n",
    "\n",
    "Author: \n",
    "       \n",
    "        C.Halsey\n"
   ]
  },
  {
   "cell_type": "markdown",
   "id": "c06d20ce-ee3c-4719-9151-ab4d63464593",
   "metadata": {},
   "source": [
    "Institution: \n",
    "\n",
    "        STES"
   ]
  },
  {
   "cell_type": "markdown",
   "id": "df317cc6-2fb1-4ca3-b160-255e7af9b7a1",
   "metadata": {},
   "source": [
    "Location: \n",
    "\n",
    "        Houston, TX"
   ]
  },
  {
   "cell_type": "code",
   "execution_count": null,
   "id": "91aab2e4-55b2-483a-9a6b-4ce2bf7b8b8e",
   "metadata": {},
   "outputs": [],
   "source": []
  }
 ],
 "metadata": {
  "kernelspec": {
   "display_name": "Python 3 (ipykernel)",
   "language": "python",
   "name": "python3"
  },
  "language_info": {
   "codemirror_mode": {
    "name": "ipython",
    "version": 3
   },
   "file_extension": ".py",
   "mimetype": "text/x-python",
   "name": "python",
   "nbconvert_exporter": "python",
   "pygments_lexer": "ipython3",
   "version": "3.12.8"
  }
 },
 "nbformat": 4,
 "nbformat_minor": 5
}
